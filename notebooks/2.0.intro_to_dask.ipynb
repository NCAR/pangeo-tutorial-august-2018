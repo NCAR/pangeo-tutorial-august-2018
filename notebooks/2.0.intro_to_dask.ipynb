{
 "cells": [
  {
   "cell_type": "markdown",
   "metadata": {},
   "source": [
    "# 2.0. Introduction to Dask: *Dynamic Task Scheduling*\n",
    "\n",
    "**[Click here to go to the Dask documentation in another window...](https://dask.pydata.org/en/latest/docs.html)**"
   ]
  },
  {
   "cell_type": "markdown",
   "metadata": {},
   "source": [
    "## What *is* Dask?\n",
    "\n",
    "**1. Dask is a tool for performing *parallel computation*.**\n",
    "    - Think: MPI, OpenMP, `threading`, or `multiprocessing`\n",
    "**2. Dask is a tool to provide *lazy evaluation*.**\n",
    "    - Think: `concurrent.futures`...if you know what that is!\n",
    "**3. Dask is a tool for *parallelizing tasks & operations*.**\n",
    "    - Think: Spark, MapReduce, etc."
   ]
  },
  {
   "cell_type": "markdown",
   "metadata": {},
   "source": [
    "## How is it different from MPI, OpenMP, *etc.*?\n",
    "\n",
    "MPI, OpenMP, and the Python `multiprocessing` and `threading` packages require you to encode parallelism into your source!\n",
    "\n",
    "That is, they require you to decide **how to parallelize your code!**"
   ]
  },
  {
   "cell_type": "code",
   "execution_count": null,
   "metadata": {},
   "outputs": [],
   "source": [
    "# Download Dask Main Page\n",
    "from IPython.display import HTML\n",
    "HTML('<iframe src=https://dask.pydata.org/en/latest/docs.html width=750 height=500></iframe>')"
   ]
  }
 ],
 "metadata": {
  "kernelspec": {
   "display_name": "Python [default]",
   "language": "python",
   "name": "python3"
  },
  "language_info": {
   "codemirror_mode": {
    "name": "ipython",
    "version": 3
   },
   "file_extension": ".py",
   "mimetype": "text/x-python",
   "name": "python",
   "nbconvert_exporter": "python",
   "pygments_lexer": "ipython3",
   "version": "3.6.5"
  }
 },
 "nbformat": 4,
 "nbformat_minor": 2
}
