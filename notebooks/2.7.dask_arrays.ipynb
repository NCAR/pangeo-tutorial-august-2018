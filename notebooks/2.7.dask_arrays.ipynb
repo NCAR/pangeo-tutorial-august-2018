{
 "cells": [
  {
   "cell_type": "markdown",
   "metadata": {},
   "source": [
    "# 2.6. Dask Array\n",
    "\n",
    "![](dask-array-black-text.svg)\n",
    "\n",
    "*From the Dask documentation:*\n",
    "> Dask Array implements a subset of the NumPy ndarray interface using \n",
    "> blocked algorithms, cutting up the large array into many small arrays. \n",
    "> This lets us compute on arrays larger than memory using all of our cores. \n",
    "> We coordinate these blocked algorithms using dask graphs.\n",
    "\n",
    "Dask Arrays provide \"a parallel, larger-than-memory, n-dimensional array using blocked algorithms. Simply put: distributed Numpy.\n",
    "\n",
    "- **Parallel:** Uses all of the cores on your computer\n",
    "- **Larger-than-memory:** Lets you work on datasets that are larger than your available memory by breaking up your array into many small pieces, operating on those pieces in an order that minimizes the memory footprint of your computation, and effectively streaming data from disk.\n",
    "- **Blocked Algorithms:** Perform large computations by performing many smaller computations\"\n",
    "\n",
    "*Taken from the Dask tutorial: https://github.com/dask/dask-tutorial*"
   ]
  },
  {
   "cell_type": "code",
   "execution_count": null,
   "metadata": {},
   "outputs": [],
   "source": [
    "import dask.array as da\n",
    "import netCDF4 as nc4"
   ]
  },
  {
   "cell_type": "markdown",
   "metadata": {},
   "source": [
    "## Creating Dask Arrays from Numpy Arrays\n",
    "\n",
    "One of the easiest ways of creating Dask Arrays is directly from Numpy arrays using the `from_array` function of `dask.array`.  This function accepts anything that is \"array-like,\" so it can accept a netCDF4 variable from netCDF4-python."
   ]
  },
  {
   "cell_type": "code",
   "execution_count": null,
   "metadata": {},
   "outputs": [],
   "source": [
    "exfile = '../data/e5.oper.an.sfc.128_034_sstk.regn320sc.2010010100_2010013123.nc'"
   ]
  },
  {
   "cell_type": "code",
   "execution_count": null,
   "metadata": {},
   "outputs": [],
   "source": [
    "ncds = nc4.Dataset(exfile)\n",
    "ncds"
   ]
  },
  {
   "cell_type": "code",
   "execution_count": null,
   "metadata": {},
   "outputs": [],
   "source": []
  }
 ],
 "metadata": {
  "kernelspec": {
   "display_name": "Python [default]",
   "language": "python",
   "name": "python3"
  },
  "language_info": {
   "codemirror_mode": {
    "name": "ipython",
    "version": 3
   },
   "file_extension": ".py",
   "mimetype": "text/x-python",
   "name": "python",
   "nbconvert_exporter": "python",
   "pygments_lexer": "ipython3",
   "version": "3.6.5"
  }
 },
 "nbformat": 4,
 "nbformat_minor": 2
}
