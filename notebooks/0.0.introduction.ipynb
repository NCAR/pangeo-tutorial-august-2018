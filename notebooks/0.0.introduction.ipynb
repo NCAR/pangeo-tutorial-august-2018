{
 "cells": [
  {
   "cell_type": "markdown",
   "metadata": {},
   "source": [
    "# ATMOSPHERIC DATA ANALYSIS WITH DASK AND XARRAY\n",
    "\n",
    "In this tutorial, we will provide an introduction to the Xarray and Dask packages and provide examples of how to use them for the analysis of atmospheric data. We have broken the tutorial into topical sections, each with its own Jupyter Notebook. In this notebook, we'll just provide a quick overview of the tutorial and provide some useful links/references."
   ]
  },
  {
   "cell_type": "markdown",
   "metadata": {},
   "source": [
    "# Summary\n",
    "\n",
    "Dask is a Python-based \"flexible parallel computing library for analytic computing.\" Dask provides a simple interface to parallel data analysis tasks without requiring parallel computing knowledge from the user. Xarray is a Python package that provides an in-memory data model (and operations on that data) consistent with the Common Data Model used by NetCDF. Together, Dask and Xarray provide a parallel-computing platform ideal for analysis of Earth System Science data. Users interact with Xarray data objects without needing to think about the parallel operations being performed by Dask \"under the hood.\" In essence, Dask and Xarray provide a platform that can scale a user's analysis from their laptop to a high-performance computing (HPC) center or the cloud, without needing to change a single line of code!\n"
   ]
  },
  {
   "cell_type": "markdown",
   "metadata": {},
   "source": [
    "# Outline\n",
    "\n",
    "| Est. Time | Title | Who | Notebook |\n",
    "| ----------| ----- | --- | ---- |\n",
    "| 5 min.    | 0.0 - Introduction | Joe Hamman | [link](./1.0.scientific_python_ecosystem.ipynb) |\n",
    "| 10 min.   | 1.0 - Scientific Python | Joe Hamman | [link](./1.0.scientific_python_ecosystem.ipynb)|\n",
    "| 10 min.   | 1.1 - Xarray - Data Structures | Joe Hamman | [link](./1.1.xarray-data-structures.ipynb) | \n",
    "| 10 min.   | 1.2 - Xarray - the Power of Labels | Joe Hamman | [link](./1.2.xarray-the-power-of-labels.ipynb) |\n",
    "| 10 min.   | 1.3 - Xarray - Computation Toolkit | Joe Hamman | [link](./1.3.xarray-computation-toolkit.ipynb) | \n",
    "| 10 min.   | 1.4 - Xarray - Visualization | Joe Hamman | [link](./1.4.xarray-visualization.ipynb) |\n",
    "| 10 min.   | 1.5 - Xarray - Input and Output | Joe Hamman | [link](./1.5.xarray-input-and-output.ipynb) |\n",
    "| --------  | ----------------- Break -----------------| ------------  | ---- |\n",
    "| 5 min. | 2.0 - Dask - Introduction | Kevin Paul | [link](./2.0.intro_to_dask.ipynb) | \n",
    "| 10 min. | 2.1 - Dask - Delayed Functions | Kevin Paul | [link](./2.1.dask_delayed_functions.ipynb) | \n",
    "| 10 min. | 2.2 - Dask - Delayed Objects | Kevin Paul | [link](./2.2.dask_delayed_objects.ipynb) | \n",
    "| 10 min. | 2.3 - Dask - Schedulers | Kevin Paul | [link](./2.3.dask_schedulers.ipynb) | \n",
    "| 10 min. | 2.4 - Dask - Parallelism | Kevin Paul | [link](./2.4.dask_parallelism.ipynb) | \n",
    "| 10 min. | 2.5 - Dask - Profiling and Diagnostics | Kevin Paul | [link](./2.5.dask_profiling_and_diagnostics.ipynb) | \n",
    "| 10 min. | 2.6 - Dask - Arrays | Kevin Paul | [link](./2.6.dask_arrays.ipynb) | \n",
    "| 10 min. | 2.7 - Dask - Distributed | Kevin Paul | [link](./2.7.dask_distributed.ipynb) | \n",
    "| 45 min. | 3.0 - Applications | - | [link](./3.0.applications.ipynb) | \n"
   ]
  },
  {
   "cell_type": "markdown",
   "metadata": {},
   "source": [
    "# Links\n",
    "\n",
    "- Miniconda: \n",
    "- Xarray Documentation: http://xarray.pydata.org\n",
    "- Dask Documentation: http://dask.pydata.org\n",
    "- Tutorial Contents: https://github.com/pangeo-data/pangeo-tutorial-sea-2018\n",
    "- Pangeo: https://pangeo-data.github.io\n",
    "\n",
    "**Cheyenne Users:**\n",
    "\n",
    "- Cheyennne Documentation: https://www2.cisl.ucar.edu/resources/computational-systems/cheyenne\n",
    "- Dask-jobqueue: https://github.com/dask/dask-jobqueue\n",
    "\n",
    "**Google Cloud Pangeo Users:**\n",
    "\n",
    "- JupyterHub: http://pangeo.pydata.org\n"
   ]
  }
 ],
 "metadata": {
  "kernelspec": {
   "display_name": "Python (pangeo)",
   "language": "python",
   "name": "pangeo"
  },
  "language_info": {
   "codemirror_mode": {
    "name": "ipython",
    "version": 3
   },
   "file_extension": ".py",
   "mimetype": "text/x-python",
   "name": "python",
   "nbconvert_exporter": "python",
   "pygments_lexer": "ipython3",
   "version": "3.6.5"
  }
 },
 "nbformat": 4,
 "nbformat_minor": 2
}
