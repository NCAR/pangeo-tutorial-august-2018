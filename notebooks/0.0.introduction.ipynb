{
 "cells": [
  {
   "cell_type": "markdown",
   "metadata": {},
   "source": [
    "# ATMOSPHERIC DATA ANALYSIS WITH DASK AND XARRAY\n",
    "\n",
    "In this tutorial, we will provide an introduction to the Xarray and Dask packages and provide examples of how to use them for the analysis of atmospheric data. We have broken the tutorial into topical sections, each with its own Jupyter Notebook. In this notebook, we'll just provide a quick overview of the tutorial and provide some useful links/references."
   ]
  },
  {
   "cell_type": "markdown",
   "metadata": {},
   "source": [
    "# Summary\n",
    "\n",
    "Dask is a Python-based \"flexible parallel computing library for analytic computing.\" Dask provides a simple interface to parallel data analysis tasks without requiring parallel computing knowledge from the user. Xarray is a Python package that provides an in-memory data model (and operations on that data) consistent with the Common Data Model used by NetCDF. Together, Dask and Xarray provide a parallel-computing platform ideal for analysis of Earth System Science data. Users interact with Xarray data objects without needing to think about the parallel operations being performed by Dask \"under the hood.\" In essence, Dask and Xarray provide a platform that can scale a user's analysis from their laptop to a high-performance computing (HPC) center or the cloud, without needing to change a single line of code!\n"
   ]
  },
  {
   "cell_type": "markdown",
   "metadata": {},
   "source": [
    "# Outline\n",
    "\n",
    "| Est. Time | Title | Notebook |\n",
    "| ----------| ----- | -------- |\n",
    "| 5 min.    | 0.0 - Introduction | [link](./0.0.introduction.ipynb) |\n",
    "| 5 min.    | 0.1 - Basic Python | [link](./0.1.basic_python.ipynb) |\n",
    "| 10 min.   | 0.2 - Scientific Python | [link](./0.2.scientific_python_ecosystem.ipynb)|\n",
    "| ---       | Break |          |\n",
    "| 10 min.   | 1.0 - Xarray - Data Structures | [link](./1.0.xarray-data-structures.ipynb) | \n",
    "| 10 min.   | 1.1 - Xarray - the Power of Labels | [link](./1.1.xarray-the-power-of-labels.ipynb) |\n",
    "| 10 min.   | 1.2 - Xarray - Computation Toolkit | [link](./1.2.xarray-computation-toolkit.ipynb) | \n",
    "| 10 min.   | 1.3 - Xarray - Visualization | [link](./1.3.xarray-visualization.ipynb) |\n",
    "| 10 min.   | 1.4 - Xarray - Input and Output | [link](./1.4.xarray-input-and-output.ipynb) |\n",
    "| ---       | Break |          |\n",
    "| 5 min.    | 2.0 - Dask - Introduction | [link](./2.0.intro_to_dask.ipynb) | \n",
    "| 10 min.   | 2.1 - Dask - Delayed | [link](./2.1.dask_delayed.ipynb) | \n",
    "| 10 min.   | 2.2 - Dask - Schedulers | [link](./2.2.dask_schedulers.ipynb) | \n",
    "| 10 min.   | 2.3 - Dask - Parallelism | [link](./2.3.dask_parallelism.ipynb) | \n",
    "| 10 min.   | 2.4 - Dask - Profiling and Diagnostics | [link](./2.4.dask_profiling_and_diagnostics.ipynb) | \n",
    "| 10 min.   | 2.5 - Dask - Distributed | [link](./2.5.dask_distributed.ipynb) | \n",
    "| 10 min.   | 2.6 - Dask - Arrays | [link](./2.6.dask_arrays.ipynb) | \n",
    "| ---       | Break |          |\n",
    "| 10 min.   | 3.0 - Applications | [link](./3.0.applications.ipynb) | \n"
    "| 45 min.   | 3.1 - Cheyenne Example | [link](./3.1.cheyenne_example.ipynb) | \n"
   ]
  },
  {
   "cell_type": "markdown",
   "metadata": {},
   "source": [
    "# Links\n",
    "\n",
    "- Miniconda: https://conda.io/miniconda.html\n",
    "- Xarray Documentation: http://xarray.pydata.org\n",
    "- Dask Documentation: http://dask.pydata.org\n",
    "- Tutorial Contents: https://github.com/pangeo-data/pangeo-tutorial-sea-2018\n",
    "- Pangeo: https://pangeo-data.github.io\n",
    "\n",
    "**Cheyenne Users:**\n",
    "\n",
    "- Cheyennne Documentation: https://www2.cisl.ucar.edu/resources/computational-systems/cheyenne\n",
    "- Dask-jobqueue: https://github.com/dask/dask-jobqueue\n",
    "\n",
    "**Google Cloud Pangeo Users:**\n",
    "\n",
    "- JupyterHub: http://pangeo.pydata.org\n"
   ]
  }
 ],
 "metadata": {
  "kernelspec": {
   "display_name": "Python [conda env:pangeo]",
   "language": "python",
   "name": "conda-env-pangeo-py"
  },
  "language_info": {
   "codemirror_mode": {
    "name": "ipython",
    "version": 3
   },
   "file_extension": ".py",
   "mimetype": "text/x-python",
   "name": "python",
   "nbconvert_exporter": "python",
   "pygments_lexer": "ipython3",
   "version": "3.6.5"
  }
 },
 "nbformat": 4,
 "nbformat_minor": 2
}
