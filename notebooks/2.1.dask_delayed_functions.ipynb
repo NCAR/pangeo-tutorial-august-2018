{
 "cells": [
  {
   "cell_type": "markdown",
   "metadata": {},
   "source": [
    "# 2.1 Dask Delayed Functions\n",
    "The Dask function `delayed` is a *decorator function* (see below) that delays the execution of a function when it is called, letting you determine when to actually execute the function's operation at a later time."
   ]
  },
  {
   "cell_type": "markdown",
   "metadata": {},
   "source": [
    "> **NOTE:** A *decorator function* (or just a *decorator*) is a function that takes another function as its argument and returns yet another function.  Effectively, *decorator functions* act as wrapper functions, passing arguments through the wrapper to the wrapped function.\n",
    ">\n",
    ">Decorators can be applied in two different ways:\n",
    ">\n",
    ">```python\n",
    ">def unwrapped_function(...):\n",
    ">    ...\n",
    ">\n",
    ">wrapped_function = decorator_function(unwrapped_function)\n",
    ">```\n",
    ">\n",
    ">where the `wrapped_function` is defined separately from the `unwrapped_function`, or\n",
    ">\n",
    ">```python\n",
    ">@decorator_function\n",
    ">def function(...):\n",
    ">    ...\n",
    ">```\n",
    ">\n",
    ">where the `function` is wrapped at the time it is defined using *decorator syntax*."
   ]
  },
  {
   "cell_type": "code",
   "execution_count": null,
   "metadata": {},
   "outputs": [],
   "source": [
    "from sleeplock import sleep\n",
    "import dask"
   ]
  },
  {
   "cell_type": "markdown",
   "metadata": {},
   "source": [
    "## Example: *Slow Python Functions*"
   ]
  },
  {
   "cell_type": "code",
   "execution_count": null,
   "metadata": {},
   "outputs": [],
   "source": [
    "# A simple function to increment an integer...slowly!\n",
    "def slow_inc(x):\n",
    "    sleep(1)\n",
    "    return x + 1"
   ]
  },
  {
   "cell_type": "code",
   "execution_count": null,
   "metadata": {},
   "outputs": [],
   "source": [
    "# A simple function to decrement an integer...slowly!\n",
    "def slow_dec(x):\n",
    "    sleep(1)\n",
    "    return x - 1"
   ]
  },
  {
   "cell_type": "code",
   "execution_count": null,
   "metadata": {},
   "outputs": [],
   "source": [
    "%time i_2 = slow_inc(2)\n",
    "i_2"
   ]
  },
  {
   "cell_type": "code",
   "execution_count": null,
   "metadata": {},
   "outputs": [],
   "source": [
    "%time d_i_2 = slow_dec(i_2)\n",
    "d_i_2"
   ]
  },
  {
   "cell_type": "markdown",
   "metadata": {},
   "source": [
    "## Example: *Dask Delayed Functions*"
   ]
  },
  {
   "cell_type": "code",
   "execution_count": null,
   "metadata": {},
   "outputs": [],
   "source": [
    "delayed_inc = dask.delayed(slow_inc)\n",
    "delayed_dec = dask.delayed(slow_dec)"
   ]
  },
  {
   "cell_type": "code",
   "execution_count": null,
   "metadata": {},
   "outputs": [],
   "source": [
    "%time delayed_i_2 = delayed_inc(2)\n",
    "delayed_i_2"
   ]
  },
  {
   "cell_type": "code",
   "execution_count": null,
   "metadata": {},
   "outputs": [],
   "source": [
    "%time delayed_d_i_2 = delayed_dec(delayed_i_2)\n",
    "delayed_d_i_2"
   ]
  },
  {
   "cell_type": "markdown",
   "metadata": {},
   "source": [
    "## Notice anything different?\n",
    "\n",
    "**1. Run Times:**  The \"tasks\" ran almost instantaneously!\n",
    "\n",
    "**2. Return Values:**  The `delayed` functions returned `Delayed` objects."
   ]
  },
  {
   "cell_type": "markdown",
   "metadata": {},
   "source": [
    "**...So, what is a `Delayed` object?**"
   ]
  }
 ],
 "metadata": {
  "kernelspec": {
   "display_name": "Python [default]",
   "language": "python",
   "name": "python3"
  },
  "language_info": {
   "codemirror_mode": {
    "name": "ipython",
    "version": 3
   },
   "file_extension": ".py",
   "mimetype": "text/x-python",
   "name": "python",
   "nbconvert_exporter": "python",
   "pygments_lexer": "ipython3",
   "version": "3.6.5"
  }
 },
 "nbformat": 4,
 "nbformat_minor": 2
}
