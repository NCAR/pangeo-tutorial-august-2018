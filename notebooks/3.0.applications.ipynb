{
 "cells": [
  {
   "cell_type": "markdown",
   "metadata": {},
   "source": [
    "# Applications and Practice\n",
    "\n",
    "The remainder of this tutorial is meant to provide participants with an oportunity to dive in and get their hands dirty. Rather than providing participants with canned examples, we have instead compiled a collection of datasets that may be of interest to a range of differnet users."
   ]
  },
  {
   "cell_type": "markdown",
   "metadata": {},
   "source": [
    "## Datasets on Glade (Cheyenne)\n",
    "\n",
    "- CESM Large Ensemble:\n",
    "  - Path: /glade/p/cesmLE/CESM-CAM5-BGC-LE\n",
    "  - Info: http://www.cesm.ucar.edu/projects/community-projects/LENS/data-sets.html\n",
    "- Global Hourly 0.5-degree Land Surface Air Temperature Datasets\n",
    "  - Path: /glade/p/rda/data_old/ds193.0\n",
    "  - Info: https://rda.ucar.edu/datasets/ds193.0/\n",
    "- CONUS Met Ensemble: \n",
    "  - Path: /glade2/scratch2/jhamman/GARD_inputs/newman_ensemble\n",
    "  - Info: https://www.earthsystemgrid.org/dataset/gridded_precip_and_temp.html\n",
    "- \\+ many more...\n"
   ]
  },
  {
   "cell_type": "markdown",
   "metadata": {},
   "source": [
    "## Datasets on Google Cloud\n",
    "\n",
    "- CONUS Met Ensemble: \n",
    "  - GCS: https://storage.googleapis.com/pangeo-data/newman-met-ensemble/\n",
    "  - Info: https://www.earthsystemgrid.org/dataset/gridded_precip_and_temp.html\n",
    "      \n",
    "        import gcsfs\n",
    "\n",
    "        fs = gcsfs.GCSFileSystem(project='pangeo-181919', token='anon', access='read_only')\n",
    "        gcsmap = gcsfs.mapping.GCSMap('pangeo-data/newman-met-ensemble',\n",
    "                                      gcs=fs, check=False, create=False)\n",
    "\n",
    "        ds = xr.open_zarr(gcsmap)\n",
    "        \n",
    "- Sea Surface Altimetry:\n",
    "  - GCS: https://storage.googleapis.com/pangeo-data/dataset-duacs-rep-global-merged-allsat-phy-l4-v3-alt/\n",
    "  - Info: http://marine.copernicus.eu/services-portfolio/access-to-products/?option=com_csw&view=details&product_id=SEALEVEL_GLO_PHY_L4_REP_OBSERVATIONS_008_047\n",
    "\n",
    "        import gcsfs\n",
    "\n",
    "        gcsmap = gcsfs.mapping.GCSMap('pangeo-data/dataset-duacs-rep-global-merged-allsat-phy-l4-v3-alt')\n",
    "        ds = xr.open_zarr(gcsmap)"
   ]
  },
  {
   "cell_type": "markdown",
   "metadata": {},
   "source": [
    "## Datasets on OpenDAP\n",
    "\n",
    "- CPC Merged Analysis of Precipitation (CMAP)\n",
    "  - URL: https://www.esrl.noaa.gov/psd/thredds/dodsC/Datasets/cmap/enh/precip.pentad.mean.nc\n",
    "  - Info: https://www.esrl.noaa.gov/psd/data/gridded/data.cmap.html\n",
    "- \\+ many more"
   ]
  },
  {
   "cell_type": "code",
   "execution_count": null,
   "metadata": {},
   "outputs": [],
   "source": []
  }
 ],
 "metadata": {
  "kernelspec": {
   "display_name": "Python [conda env:pangeo]",
   "language": "python",
   "name": "conda-env-pangeo-py"
  },
  "language_info": {
   "codemirror_mode": {
    "name": "ipython",
    "version": 3
   },
   "file_extension": ".py",
   "mimetype": "text/x-python",
   "name": "python",
   "nbconvert_exporter": "python",
   "pygments_lexer": "ipython3",
   "version": "3.6.5"
  }
 },
 "nbformat": 4,
 "nbformat_minor": 2
}
