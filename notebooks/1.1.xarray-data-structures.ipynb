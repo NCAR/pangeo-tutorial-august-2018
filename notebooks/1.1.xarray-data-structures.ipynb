{
 "cells": [
  {
   "cell_type": "markdown",
   "metadata": {},
   "source": [
    "# Data Structures \n",
    "\n",
    "### Outline\n",
    "- Arrays of Numbers (Numpy is Python's most common array library)\n",
    "- The common data model (labels, netcdf)\n",
    "- Labeled tabular data in Python (pandas)\n",
    "- N-Dimensional labeled arrays (xarray)\n",
    "  - DataArray\n",
    "  - Dataset\n",
    "  \n",
    "### Tutorial Duriation\n",
    "15 minutes"
   ]
  },
  {
   "cell_type": "code",
   "execution_count": null,
   "metadata": {},
   "outputs": [],
   "source": []
  }
 ],
 "metadata": {
  "kernelspec": {
   "display_name": "Python (pangeo)",
   "language": "python",
   "name": "pangeo"
  },
  "language_info": {
   "codemirror_mode": {
    "name": "ipython",
    "version": 3
   },
   "file_extension": ".py",
   "mimetype": "text/x-python",
   "name": "python",
   "nbconvert_exporter": "python",
   "pygments_lexer": "ipython3",
   "version": "3.6.4"
  }
 },
 "nbformat": 4,
 "nbformat_minor": 2
}
