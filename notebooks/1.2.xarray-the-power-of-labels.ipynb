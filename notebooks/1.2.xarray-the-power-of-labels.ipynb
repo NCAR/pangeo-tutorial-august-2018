{
 "cells": [
  {
   "cell_type": "markdown",
   "metadata": {},
   "source": [
    "# The Power of labeled data structures\n",
    "\n",
    "***Purpose: Your data has labels; you should use them***\n",
    "\n",
    "![](images/dataset-diagram.png)\n",
    "\n",
    "Scientific data is inherently labeled. For example, time series data includes timestamps that label individual periods or points in time, spatial data has coordinates (e.g. longitude, latitude, elevation), and model or laboratory experiments are often identified by unique identifiers. The figure above provides an example of a labeled dataset. In this case the data is a map of global air temperature from a numeric weather model. The labels on this particular dataset are time (e.g. “2016-05-01”), longitude (x-axis), and latitude (y-axis).\n",
    "\n",
    "----\n",
    "\n",
    "### Outline\n",
    "- Numpy index (in brief)\n",
    "- Named dimensions/axes\n",
    "- Coordinate labels\n",
    "- Label based indexing\n",
    "- Alignment\n",
    "\n",
    "### Tutorial Duriation\n",
    "10 minutes\n",
    "\n",
    "### Going Further\n",
    "\n",
    "Xarray Documentation on Indexing: http://xarray.pydata.org/en/latest/indexing.html"
   ]
  },
  {
   "cell_type": "code",
   "execution_count": 1,
   "metadata": {
    "collapsed": true
   },
   "outputs": [],
   "source": [
    "import xarray as xr\n"
   ]
  },
  {
   "cell_type": "code",
   "execution_count": 2,
   "metadata": {
    "collapsed": false
   },
   "outputs": [
    {
     "data": {
      "text/plain": [
       "<xarray.Dataset>\n",
       "Dimensions:  (lat: 25, lon: 53, time: 2920)\n",
       "Coordinates:\n",
       "  * lat      (lat) float32 75.0 72.5 70.0 67.5 65.0 62.5 60.0 57.5 55.0 52.5 ...\n",
       "  * lon      (lon) float32 200.0 202.5 205.0 207.5 210.0 212.5 215.0 217.5 ...\n",
       "  * time     (time) datetime64[ns] 2013-01-01 2013-01-01T06:00:00 ...\n",
       "Data variables:\n",
       "    air      (time, lat, lon) float32 241.2 242.5 243.5 244.0 244.1 243.89 ...\n",
       "Attributes:\n",
       "    Conventions:  COARDS\n",
       "    title:        4x daily NMC reanalysis (1948)\n",
       "    description:  Data is from NMC initialized reanalysis\\n(4x/day).  These a...\n",
       "    platform:     Model\n",
       "    references:   http://www.esrl.noaa.gov/psd/data/gridded/data.ncep.reanaly..."
      ]
     },
     "execution_count": 2,
     "metadata": {},
     "output_type": "execute_result"
    }
   ],
   "source": [
    "# load a sample dataset\n",
    "ds = xr.tutorial.load_dataset('air_temperature')\n",
    "ds"
   ]
  },
  {
   "cell_type": "markdown",
   "metadata": {},
   "source": [
    "## The old way (numpy positional indexing)\n",
    "\n",
    "When working with numpy, indexing is done by position (slices/ranges/scalars). "
   ]
  },
  {
   "cell_type": "code",
   "execution_count": 3,
   "metadata": {
    "collapsed": false
   },
   "outputs": [
    {
     "data": {
      "text/plain": [
       "array([[[ 241.19999695,  242.5       ,  243.5       , ...,  232.79998779,\n",
       "          235.5       ,  238.59999084],\n",
       "        [ 243.79998779,  244.5       ,  244.69999695, ...,  232.79998779,\n",
       "          235.29998779,  239.29998779],\n",
       "        [ 250.        ,  249.79998779,  248.88999939, ...,  233.19999695,\n",
       "          236.38999939,  241.69999695],\n",
       "        ..., \n",
       "        [ 296.6000061 ,  296.19998169,  296.3999939 , ...,  295.3999939 ,\n",
       "          295.1000061 ,  294.69998169],\n",
       "        [ 295.8999939 ,  296.19998169,  296.79000854, ...,  295.8999939 ,\n",
       "          295.8999939 ,  295.19998169],\n",
       "        [ 296.29000854,  296.79000854,  297.1000061 , ...,  296.8999939 ,\n",
       "          296.79000854,  296.6000061 ]],\n",
       "\n",
       "       [[ 242.09999084,  242.69999695,  243.09999084, ...,  232.        ,\n",
       "          233.59999084,  235.79998779],\n",
       "        [ 243.59999084,  244.09999084,  244.19999695, ...,  231.        ,\n",
       "          232.5       ,  235.69999695],\n",
       "        [ 253.19999695,  252.88999939,  252.09999084, ...,  230.79998779,\n",
       "          233.38999939,  238.5       ],\n",
       "        ..., \n",
       "        [ 296.3999939 ,  295.8999939 ,  296.19998169, ...,  295.3999939 ,\n",
       "          295.1000061 ,  294.79000854],\n",
       "        [ 296.19998169,  296.69998169,  296.79000854, ...,  295.6000061 ,\n",
       "          295.5       ,  295.1000061 ],\n",
       "        [ 296.29000854,  297.19998169,  297.3999939 , ...,  296.3999939 ,\n",
       "          296.3999939 ,  296.6000061 ]],\n",
       "\n",
       "       [[ 242.29998779,  242.19999695,  242.29998779, ...,  234.29998779,\n",
       "          236.09999084,  238.69999695],\n",
       "        [ 244.59999084,  244.38999939,  244.        , ...,  230.29998779,\n",
       "          232.        ,  235.69999695],\n",
       "        [ 256.19998169,  255.5       ,  254.19999695, ...,  231.19999695,\n",
       "          233.19999695,  238.19999695],\n",
       "        ..., \n",
       "        [ 295.6000061 ,  295.3999939 ,  295.3999939 , ...,  296.29000854,\n",
       "          295.29000854,  295.        ],\n",
       "        [ 296.19998169,  296.5       ,  296.29000854, ...,  296.3999939 ,\n",
       "          296.        ,  295.6000061 ],\n",
       "        [ 296.3999939 ,  296.29000854,  296.3999939 , ...,  297.        ,\n",
       "          297.        ,  296.79000854]],\n",
       "\n",
       "       ..., \n",
       "       [[ 243.48999023,  242.98999023,  242.08999634, ...,  244.18998718,\n",
       "          244.48999023,  244.88999939],\n",
       "        [ 249.08999634,  248.98999023,  248.58999634, ...,  240.58999634,\n",
       "          241.28999329,  242.68998718],\n",
       "        [ 262.69000244,  262.19000244,  261.69000244, ...,  239.38999939,\n",
       "          241.68998718,  245.18998718],\n",
       "        ..., \n",
       "        [ 294.79000854,  295.29000854,  297.48999023, ...,  295.48999023,\n",
       "          295.38998413,  294.69000244],\n",
       "        [ 296.79000854,  297.88998413,  298.29000854, ...,  295.48999023,\n",
       "          295.48999023,  294.79000854],\n",
       "        [ 298.19000244,  299.19000244,  298.79000854, ...,  296.08999634,\n",
       "          295.79000854,  295.79000854]],\n",
       "\n",
       "       [[ 245.78999329,  244.78999329,  243.48999023, ...,  243.28999329,\n",
       "          243.98999023,  244.78999329],\n",
       "        [ 249.88999939,  249.28999329,  248.48999023, ...,  241.28999329,\n",
       "          242.48999023,  244.28999329],\n",
       "        [ 262.38998413,  261.79000854,  261.29000854, ...,  240.48999023,\n",
       "          243.08999634,  246.88999939],\n",
       "        ..., \n",
       "        [ 293.69000244,  293.88998413,  295.38998413, ...,  295.08999634,\n",
       "          294.69000244,  294.29000854],\n",
       "        [ 296.29000854,  297.19000244,  297.58999634, ...,  295.29000854,\n",
       "          295.08999634,  294.38998413],\n",
       "        [ 297.79000854,  298.38998413,  298.48999023, ...,  295.69000244,\n",
       "          295.48999023,  295.19000244]],\n",
       "\n",
       "       [[ 245.08999634,  244.28999329,  243.28999329, ...,  241.68998718,\n",
       "          241.48999023,  241.78999329],\n",
       "        [ 249.88999939,  249.28999329,  248.38999939, ...,  239.58999634,\n",
       "          240.28999329,  241.68998718],\n",
       "        [ 262.98999023,  262.19000244,  261.38998413, ...,  239.88999939,\n",
       "          242.58999634,  246.28999329],\n",
       "        ..., \n",
       "        [ 293.79000854,  293.69000244,  295.08999634, ...,  295.29000854,\n",
       "          295.08999634,  294.69000244],\n",
       "        [ 296.08999634,  296.88998413,  297.19000244, ...,  295.69000244,\n",
       "          295.69000244,  295.19000244],\n",
       "        [ 297.69000244,  298.08999634,  298.08999634, ...,  296.48999023,\n",
       "          296.19000244,  295.69000244]]], dtype=float32)"
      ]
     },
     "execution_count": 3,
     "metadata": {},
     "output_type": "execute_result"
    }
   ],
   "source": [
    "t = ds['air'].data  # numpy array\n",
    "t"
   ]
  },
  {
   "cell_type": "code",
   "execution_count": 4,
   "metadata": {
    "collapsed": false
   },
   "outputs": [
    {
     "data": {
      "text/plain": [
       "(2920, 25, 53)"
      ]
     },
     "execution_count": 4,
     "metadata": {},
     "output_type": "execute_result"
    }
   ],
   "source": [
    "t.shape"
   ]
  },
  {
   "cell_type": "code",
   "execution_count": 5,
   "metadata": {
    "collapsed": false
   },
   "outputs": [
    {
     "data": {
      "text/plain": [
       "array([ 269.79000854,  267.69998169,  269.8999939 , ...,  266.19000244,\n",
       "        270.88998413,  268.38998413], dtype=float32)"
      ]
     },
     "execution_count": 5,
     "metadata": {},
     "output_type": "execute_result"
    }
   ],
   "source": [
    "# extract a time-series for one spatial location\n",
    "t[:, 10, 20]"
   ]
  },
  {
   "cell_type": "markdown",
   "metadata": {},
   "source": [
    "but wait, what labels go with `10` and `20`? Was that lat/lon or lon/lat? Where are the timestamps that go along with this time-series?"
   ]
  },
  {
   "cell_type": "markdown",
   "metadata": {},
   "source": [
    "# Indexing with Xarray\n",
    "\n",
    "xarray offers extremely flexible indexing routines that combine the best features of NumPy and pandas for data selection."
   ]
  },
  {
   "cell_type": "code",
   "execution_count": 6,
   "metadata": {
    "collapsed": true
   },
   "outputs": [],
   "source": [
    "da = ds['air']"
   ]
  },
  {
   "cell_type": "code",
   "execution_count": 7,
   "metadata": {
    "collapsed": false
   },
   "outputs": [
    {
     "data": {
      "text/plain": [
       "<xarray.DataArray 'air' (time: 2920)>\n",
       "array([ 269.790009,  267.699982,  269.899994, ...,  266.190002,  270.889984,\n",
       "        268.389984], dtype=float32)\n",
       "Coordinates:\n",
       "    lat      float32 50.0\n",
       "    lon      float32 250.0\n",
       "  * time     (time) datetime64[ns] 2013-01-01 2013-01-01T06:00:00 ...\n",
       "Attributes:\n",
       "    long_name:     4xDaily Air temperature at sigma level 995\n",
       "    units:         degK\n",
       "    precision:     2\n",
       "    GRIB_id:       11\n",
       "    GRIB_name:     TMP\n",
       "    var_desc:      Air temperature\n",
       "    dataset:       NMC Reanalysis\n",
       "    level_desc:    Surface\n",
       "    statistic:     Individual Obs\n",
       "    parent_stat:   Other\n",
       "    actual_range:  [ 185.16000366  322.1000061 ]"
      ]
     },
     "execution_count": 7,
     "metadata": {},
     "output_type": "execute_result"
    }
   ],
   "source": [
    "# numpy style indexing still works (but preserves the labels/metadata)\n",
    "da[:, 10, 20]"
   ]
  },
  {
   "cell_type": "code",
   "execution_count": 8,
   "metadata": {
    "collapsed": false
   },
   "outputs": [
    {
     "data": {
      "text/plain": [
       "<xarray.DataArray 'air' (time: 2920)>\n",
       "array([ 269.790009,  267.699982,  269.899994, ...,  266.190002,  270.889984,\n",
       "        268.389984], dtype=float32)\n",
       "Coordinates:\n",
       "    lat      float32 50.0\n",
       "    lon      float32 250.0\n",
       "  * time     (time) datetime64[ns] 2013-01-01 2013-01-01T06:00:00 ...\n",
       "Attributes:\n",
       "    long_name:     4xDaily Air temperature at sigma level 995\n",
       "    units:         degK\n",
       "    precision:     2\n",
       "    GRIB_id:       11\n",
       "    GRIB_name:     TMP\n",
       "    var_desc:      Air temperature\n",
       "    dataset:       NMC Reanalysis\n",
       "    level_desc:    Surface\n",
       "    statistic:     Individual Obs\n",
       "    parent_stat:   Other\n",
       "    actual_range:  [ 185.16000366  322.1000061 ]"
      ]
     },
     "execution_count": 8,
     "metadata": {},
     "output_type": "execute_result"
    }
   ],
   "source": [
    "# Positional indexing using dimension names\n",
    "da.isel(lat=10, lon=20)"
   ]
  },
  {
   "cell_type": "code",
   "execution_count": 9,
   "metadata": {
    "collapsed": false
   },
   "outputs": [
    {
     "data": {
      "text/plain": [
       "<xarray.DataArray 'air' (time: 2920)>\n",
       "array([ 269.790009,  267.699982,  269.899994, ...,  266.190002,  270.889984,\n",
       "        268.389984], dtype=float32)\n",
       "Coordinates:\n",
       "    lat      float32 50.0\n",
       "    lon      float32 250.0\n",
       "  * time     (time) datetime64[ns] 2013-01-01 2013-01-01T06:00:00 ...\n",
       "Attributes:\n",
       "    long_name:     4xDaily Air temperature at sigma level 995\n",
       "    units:         degK\n",
       "    precision:     2\n",
       "    GRIB_id:       11\n",
       "    GRIB_name:     TMP\n",
       "    var_desc:      Air temperature\n",
       "    dataset:       NMC Reanalysis\n",
       "    level_desc:    Surface\n",
       "    statistic:     Individual Obs\n",
       "    parent_stat:   Other\n",
       "    actual_range:  [ 185.16000366  322.1000061 ]"
      ]
     },
     "execution_count": 9,
     "metadata": {},
     "output_type": "execute_result"
    }
   ],
   "source": [
    "# Label-based indexing\n",
    "da.sel(lat=50., lon=250.)"
   ]
  },
  {
   "cell_type": "code",
   "execution_count": 10,
   "metadata": {
    "collapsed": false
   },
   "outputs": [
    {
     "data": {
      "text/plain": [
       "<xarray.DataArray 'air' (time: 2920)>\n",
       "array([ 262.699982,  263.199982,  270.899994, ...,  264.190002,  265.190002,\n",
       "        266.98999 ], dtype=float32)\n",
       "Coordinates:\n",
       "    lat      float32 52.5\n",
       "    lon      float32 252.5\n",
       "  * time     (time) datetime64[ns] 2013-01-01 2013-01-01T06:00:00 ...\n",
       "Attributes:\n",
       "    long_name:     4xDaily Air temperature at sigma level 995\n",
       "    units:         degK\n",
       "    precision:     2\n",
       "    GRIB_id:       11\n",
       "    GRIB_name:     TMP\n",
       "    var_desc:      Air temperature\n",
       "    dataset:       NMC Reanalysis\n",
       "    level_desc:    Surface\n",
       "    statistic:     Individual Obs\n",
       "    parent_stat:   Other\n",
       "    actual_range:  [ 185.16000366  322.1000061 ]"
      ]
     },
     "execution_count": 10,
     "metadata": {},
     "output_type": "execute_result"
    }
   ],
   "source": [
    "# Nearest neighbor lookups\n",
    "da.sel(lat=52.25, lon=251.8998, method='nearest')"
   ]
  },
  {
   "cell_type": "code",
   "execution_count": 11,
   "metadata": {
    "collapsed": false
   },
   "outputs": [
    {
     "data": {
      "text/plain": [
       "<xarray.Dataset>\n",
       "Dimensions:  (time: 2920)\n",
       "Coordinates:\n",
       "    lat      float32 52.5\n",
       "    lon      float32 252.5\n",
       "  * time     (time) datetime64[ns] 2013-01-01 2013-01-01T06:00:00 ...\n",
       "Data variables:\n",
       "    air      (time) float32 262.7 263.2 270.9 274.1 273.29 270.6 266.7 263.4 ...\n",
       "Attributes:\n",
       "    Conventions:  COARDS\n",
       "    title:        4x daily NMC reanalysis (1948)\n",
       "    description:  Data is from NMC initialized reanalysis\\n(4x/day).  These a...\n",
       "    platform:     Model\n",
       "    references:   http://www.esrl.noaa.gov/psd/data/gridded/data.ncep.reanaly..."
      ]
     },
     "execution_count": 11,
     "metadata": {},
     "output_type": "execute_result"
    }
   ],
   "source": [
    "# all of these indexing methods work on the dataset too, e.g.:\n",
    "ds.sel(lat=52.25, lon=251.8998, method='nearest')"
   ]
  },
  {
   "cell_type": "markdown",
   "metadata": {},
   "source": [
    "## Vectorized indexing\n",
    "\n",
    "Like numpy and pandas, xarray supports indexing many array elements at once in a vectorized manner."
   ]
  },
  {
   "cell_type": "code",
   "execution_count": 12,
   "metadata": {
    "collapsed": false
   },
   "outputs": [],
   "source": [
    "# generate a coordinates for a transect of points\n",
    "lat_points = xr.DataArray([52, 52.5, 53], dims='points')\n",
    "lon_points = xr.DataArray([250, 250, 250], dims='points')"
   ]
  },
  {
   "cell_type": "code",
   "execution_count": 13,
   "metadata": {
    "collapsed": false
   },
   "outputs": [
    {
     "data": {
      "text/plain": [
       "<xarray.DataArray 'air' (time: 2920, points: 3)>\n",
       "array([[ 269.5     ,  269.5     ,  269.5     ],\n",
       "       [ 269.290009,  269.290009,  269.290009],\n",
       "       [ 273.699982,  273.699982,  273.699982],\n",
       "       ..., \n",
       "       [ 267.48999 ,  267.48999 ,  267.48999 ],\n",
       "       [ 269.290009,  269.290009,  269.290009],\n",
       "       [ 268.690002,  268.690002,  268.690002]], dtype=float32)\n",
       "Coordinates:\n",
       "    lat      (points) float32 52.5 52.5 52.5\n",
       "    lon      (points) float32 250.0 250.0 250.0\n",
       "  * time     (time) datetime64[ns] 2013-01-01 2013-01-01T06:00:00 ...\n",
       "Dimensions without coordinates: points\n",
       "Attributes:\n",
       "    long_name:     4xDaily Air temperature at sigma level 995\n",
       "    units:         degK\n",
       "    precision:     2\n",
       "    GRIB_id:       11\n",
       "    GRIB_name:     TMP\n",
       "    var_desc:      Air temperature\n",
       "    dataset:       NMC Reanalysis\n",
       "    level_desc:    Surface\n",
       "    statistic:     Individual Obs\n",
       "    parent_stat:   Other\n",
       "    actual_range:  [ 185.16000366  322.1000061 ]"
      ]
     },
     "execution_count": 13,
     "metadata": {},
     "output_type": "execute_result"
    }
   ],
   "source": [
    "# nearest neighbor selection along the transect\n",
    "da.sel(lat=lat_points, lon=lon_points, method='nearest')"
   ]
  },
  {
   "cell_type": "markdown",
   "metadata": {},
   "source": [
    "## Alignment\n",
    "\n",
    "xarray enforces alignment between index Coordinates (that is, coordinates with the same name as a dimension, marked by *) on objects used in binary operations."
   ]
  },
  {
   "cell_type": "code",
   "execution_count": 21,
   "metadata": {
    "collapsed": false
   },
   "outputs": [
    {
     "data": {
      "text/plain": [
       "<xarray.DataArray 'air' (time: 2920, lat: 25, lon: 53)>\n",
       "array([[[ 241.199997,  242.5     , ...,  235.5     ,  238.599991],\n",
       "        [ 243.799988,  244.5     , ...,  235.299988,  239.299988],\n",
       "        ..., \n",
       "        [ 295.899994,  296.199982, ...,  295.899994,  295.199982],\n",
       "        [ 296.290009,  296.790009, ...,  296.790009,  296.600006]],\n",
       "\n",
       "       [[ 242.099991,  242.699997, ...,  233.599991,  235.799988],\n",
       "        [ 243.599991,  244.099991, ...,  232.5     ,  235.699997],\n",
       "        ..., \n",
       "        [ 296.199982,  296.699982, ...,  295.5     ,  295.100006],\n",
       "        [ 296.290009,  297.199982, ...,  296.399994,  296.600006]],\n",
       "\n",
       "       ..., \n",
       "       [[ 245.789993,  244.789993, ...,  243.98999 ,  244.789993],\n",
       "        [ 249.889999,  249.289993, ...,  242.48999 ,  244.289993],\n",
       "        ..., \n",
       "        [ 296.290009,  297.190002, ...,  295.089996,  294.389984],\n",
       "        [ 297.790009,  298.389984, ...,  295.48999 ,  295.190002]],\n",
       "\n",
       "       [[ 245.089996,  244.289993, ...,  241.48999 ,  241.789993],\n",
       "        [ 249.889999,  249.289993, ...,  240.289993,  241.689987],\n",
       "        ..., \n",
       "        [ 296.089996,  296.889984, ...,  295.690002,  295.190002],\n",
       "        [ 297.690002,  298.089996, ...,  296.190002,  295.690002]]], dtype=float32)\n",
       "Coordinates:\n",
       "  * lat      (lat) float32 75.0 72.5 70.0 67.5 65.0 62.5 60.0 57.5 55.0 52.5 ...\n",
       "  * lon      (lon) float32 200.0 202.5 205.0 207.5 210.0 212.5 215.0 217.5 ...\n",
       "  * time     (time) datetime64[ns] 2013-01-01 2013-01-01T06:00:00 ...\n",
       "Attributes:\n",
       "    long_name:     4xDaily Air temperature at sigma level 995\n",
       "    units:         degK\n",
       "    precision:     2\n",
       "    GRIB_id:       11\n",
       "    GRIB_name:     TMP\n",
       "    var_desc:      Air temperature\n",
       "    dataset:       NMC Reanalysis\n",
       "    level_desc:    Surface\n",
       "    statistic:     Individual Obs\n",
       "    parent_stat:   Other\n",
       "    actual_range:  [ 185.16000366  322.1000061 ]"
      ]
     },
     "execution_count": 21,
     "metadata": {},
     "output_type": "execute_result"
    }
   ],
   "source": [
    "da"
   ]
  },
  {
   "cell_type": "code",
   "execution_count": 24,
   "metadata": {
    "collapsed": false
   },
   "outputs": [
    {
     "data": {
      "text/plain": [
       "<xarray.DataArray 'air' (lat: 5, lon: 4)>\n",
       "array([[ 265.100006,  264.899994,  265.5     ,  266.5     ],\n",
       "       [ 272.899994,  272.      ,  271.790009,  271.100006],\n",
       "       [ 279.399994,  278.899994,  278.399994,  276.600006],\n",
       "       [ 279.5     ,  279.899994,  280.5     ,  279.899994],\n",
       "       [ 280.100006,  280.199982,  280.790009,  281.399994]], dtype=float32)\n",
       "Coordinates:\n",
       "  * lat      (lat) float32 62.5 60.0 57.5 55.0 52.5\n",
       "  * lon      (lon) float32 217.5 220.0 222.5 225.0\n",
       "    time     datetime64[ns] 2013-01-01\n",
       "Attributes:\n",
       "    long_name:     4xDaily Air temperature at sigma level 995\n",
       "    units:         degK\n",
       "    precision:     2\n",
       "    GRIB_id:       11\n",
       "    GRIB_name:     TMP\n",
       "    var_desc:      Air temperature\n",
       "    dataset:       NMC Reanalysis\n",
       "    level_desc:    Surface\n",
       "    statistic:     Individual Obs\n",
       "    parent_stat:   Other\n",
       "    actual_range:  [ 185.16000366  322.1000061 ]"
      ]
     },
     "execution_count": 24,
     "metadata": {},
     "output_type": "execute_result"
    }
   ],
   "source": [
    "arr = da.isel(time=0, lat=slice(5, 10), lon=slice(7, 11))\n",
    "arr"
   ]
  },
  {
   "cell_type": "code",
   "execution_count": 26,
   "metadata": {
    "collapsed": false
   },
   "outputs": [
    {
     "data": {
      "text/plain": [
       "<xarray.DataArray 'air' (lat: 4, lon: 4)>\n",
       "array([[ 265.100006,  264.899994,  265.5     ,  266.5     ],\n",
       "       [ 272.899994,  272.      ,  271.790009,  271.100006],\n",
       "       [ 279.399994,  278.899994,  278.399994,  276.600006],\n",
       "       [ 279.5     ,  279.899994,  280.5     ,  279.899994]], dtype=float32)\n",
       "Coordinates:\n",
       "  * lat      (lat) float32 62.5 60.0 57.5 55.0\n",
       "  * lon      (lon) float32 217.5 220.0 222.5 225.0\n",
       "    time     datetime64[ns] 2013-01-01\n",
       "Attributes:\n",
       "    long_name:     4xDaily Air temperature at sigma level 995\n",
       "    units:         degK\n",
       "    precision:     2\n",
       "    GRIB_id:       11\n",
       "    GRIB_name:     TMP\n",
       "    var_desc:      Air temperature\n",
       "    dataset:       NMC Reanalysis\n",
       "    level_desc:    Surface\n",
       "    statistic:     Individual Obs\n",
       "    parent_stat:   Other\n",
       "    actual_range:  [ 185.16000366  322.1000061 ]"
      ]
     },
     "execution_count": 26,
     "metadata": {},
     "output_type": "execute_result"
    }
   ],
   "source": [
    "part = arr[:-1]\n",
    "part"
   ]
  },
  {
   "cell_type": "code",
   "execution_count": 32,
   "metadata": {
    "collapsed": false
   },
   "outputs": [
    {
     "data": {
      "text/plain": [
       "<xarray.DataArray 'air' (lat: 4, lon: 4)>\n",
       "array([[ 265.100006,  264.899994,  265.5     ,  266.5     ],\n",
       "       [ 272.899994,  272.      ,  271.790009,  271.100006],\n",
       "       [ 279.399994,  278.899994,  278.399994,  276.600006],\n",
       "       [ 279.5     ,  279.899994,  280.5     ,  279.899994]], dtype=float32)\n",
       "Coordinates:\n",
       "  * lat      (lat) float64 62.5 60.0 57.5 55.0\n",
       "  * lon      (lon) float32 217.5 220.0 222.5 225.0\n",
       "    time     datetime64[ns] 2013-01-01"
      ]
     },
     "execution_count": 32,
     "metadata": {},
     "output_type": "execute_result"
    }
   ],
   "source": [
    "# default behavior is an \"inner join\"\n",
    "(arr + part) / 2"
   ]
  },
  {
   "cell_type": "code",
   "execution_count": 31,
   "metadata": {
    "collapsed": false
   },
   "outputs": [
    {
     "name": "stdout",
     "output_type": "stream",
     "text": [
      "<xarray.DataArray 'air' (lat: 5, lon: 4)>\n",
      "array([[        nan,         nan,         nan,         nan],\n",
      "       [ 279.5     ,  279.899994,  280.5     ,  279.899994],\n",
      "       [ 279.399994,  278.899994,  278.399994,  276.600006],\n",
      "       [ 272.899994,  272.      ,  271.790009,  271.100006],\n",
      "       [ 265.100006,  264.899994,  265.5     ,  266.5     ]], dtype=float32)\n",
      "Coordinates:\n",
      "  * lat      (lat) float64 52.5 55.0 57.5 60.0 62.5\n",
      "  * lon      (lon) float32 217.5 220.0 222.5 225.0\n",
      "    time     datetime64[ns] 2013-01-01\n"
     ]
    }
   ],
   "source": [
    "# we can also use an outer join\n",
    "with xr.set_options(arithmetic_join=\"outer\"):\n",
    "    print((arr + part) / 2)\n",
    "    \n",
    "# notice that missing values (nan) were inserted"
   ]
  },
  {
   "cell_type": "markdown",
   "metadata": {},
   "source": [
    "## Broadcasting\n",
    "\n",
    "DataArray objects are automatically align themselves (“broadcasting” in the numpy parlance) by dimension name instead of axis order. With xarray, you do not need to transpose arrays or insert dimensions of length 1 to get array operations to work, as commonly done in numpy with np.reshape() or np.newaxis."
   ]
  },
  {
   "cell_type": "code",
   "execution_count": null,
   "metadata": {
    "collapsed": true
   },
   "outputs": [],
   "source": []
  }
 ],
 "metadata": {
  "kernelspec": {
   "display_name": "Python (pangeo)",
   "language": "python",
   "name": "pangeo"
  },
  "language_info": {
   "codemirror_mode": {
    "name": "ipython",
    "version": 3
   },
   "file_extension": ".py",
   "mimetype": "text/x-python",
   "name": "python",
   "nbconvert_exporter": "python",
   "pygments_lexer": "ipython3",
   "version": "3.6.5"
  }
 },
 "nbformat": 4,
 "nbformat_minor": 2
}
