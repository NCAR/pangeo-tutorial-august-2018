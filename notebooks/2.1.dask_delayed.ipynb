{
 "cells": [
  {
   "cell_type": "markdown",
   "metadata": {},
   "source": [
    "# 2.1 Dask Delayed\n",
    "\n",
    "## Delayed Functions\n",
    "The Dask function `delayed` is a *decorator function* (see below) that delays the execution of a function when it is called, letting you determine when to actually execute the function's operation at a later time."
   ]
  },
  {
   "cell_type": "markdown",
   "metadata": {},
   "source": [
    "> **NOTE:** A *decorator function* (or just a *decorator*) is a function that takes another function as its argument and returns yet another function.  Effectively, *decorator functions* act as wrapper functions, passing arguments through the wrapper to the wrapped function.\n",
    ">\n",
    ">Decorators can be applied in two different ways:\n",
    ">\n",
    ">```python\n",
    ">def unwrapped_function(...):\n",
    ">    ...\n",
    ">\n",
    ">wrapped_function = decorator_function(unwrapped_function)\n",
    ">```\n",
    ">\n",
    ">where the `wrapped_function` is defined separately from the `unwrapped_function`, or\n",
    ">\n",
    ">```python\n",
    ">@decorator_function\n",
    ">def function(...):\n",
    ">    ...\n",
    ">```\n",
    ">\n",
    ">where the `function` is wrapped at the time it is defined using *decorator syntax*."
   ]
  },
  {
   "cell_type": "code",
   "execution_count": null,
   "metadata": {},
   "outputs": [],
   "source": [
    "from sleeplock import sleep\n",
    "import dask"
   ]
  },
  {
   "cell_type": "markdown",
   "metadata": {},
   "source": [
    "## Example: *Slow Python Functions*"
   ]
  },
  {
   "cell_type": "code",
   "execution_count": null,
   "metadata": {},
   "outputs": [],
   "source": [
    "# A simple function to increment an integer...slowly!\n",
    "def slow_inc(x):\n",
    "    sleep(1)\n",
    "    return x + 1"
   ]
  },
  {
   "cell_type": "code",
   "execution_count": null,
   "metadata": {},
   "outputs": [],
   "source": [
    "# A simple function to decrement an integer...slowly!\n",
    "def slow_dec(x):\n",
    "    sleep(1)\n",
    "    return x - 1"
   ]
  },
  {
   "cell_type": "code",
   "execution_count": null,
   "metadata": {},
   "outputs": [],
   "source": [
    "%time i_2 = slow_inc(2)\n",
    "i_2"
   ]
  },
  {
   "cell_type": "code",
   "execution_count": null,
   "metadata": {},
   "outputs": [],
   "source": [
    "%time d_i_2 = slow_dec(i_2)\n",
    "d_i_2"
   ]
  },
  {
   "cell_type": "markdown",
   "metadata": {},
   "source": [
    "## Example: *Dask Delayed Functions*"
   ]
  },
  {
   "cell_type": "code",
   "execution_count": null,
   "metadata": {},
   "outputs": [],
   "source": [
    "delayed_inc = dask.delayed(slow_inc)\n",
    "delayed_dec = dask.delayed(slow_dec)"
   ]
  },
  {
   "cell_type": "code",
   "execution_count": null,
   "metadata": {},
   "outputs": [],
   "source": [
    "%time delayed_i_2 = delayed_inc(2)\n",
    "delayed_i_2"
   ]
  },
  {
   "cell_type": "code",
   "execution_count": null,
   "metadata": {},
   "outputs": [],
   "source": [
    "%time delayed_d_i_2 = delayed_dec(delayed_i_2)\n",
    "delayed_d_i_2"
   ]
  },
  {
   "cell_type": "markdown",
   "metadata": {},
   "source": [
    "## Notice anything different?\n",
    "\n",
    "**1. Run Times:**  The \"tasks\" ran almost instantaneously!\n",
    "\n",
    "**2. Return Values:**  The `delayed` functions returned `Delayed` objects."
   ]
  },
  {
   "cell_type": "markdown",
   "metadata": {},
   "source": [
    "## Delayed Objects\n",
    "\n",
    "When called, every `delayed` function returns a `Delayed` object.  Each `Delayed` object represents a node in a *task graph*, and each `Delayed` object gives you the ability to examine and visualize the *task graph* that leads up to that node in the graph.\n",
    "\n",
    "![](inc-add.svg)"
   ]
  },
  {
   "cell_type": "markdown",
   "metadata": {},
   "source": [
    "## Delayed.compute()\n",
    "\n",
    "To force the `delayed` functions to compute and return the result, we call the `compute` method of the `Delayed` object."
   ]
  },
  {
   "cell_type": "code",
   "execution_count": null,
   "metadata": {},
   "outputs": [],
   "source": [
    "%time delayed_i_2.compute()"
   ]
  },
  {
   "cell_type": "code",
   "execution_count": null,
   "metadata": {},
   "outputs": [],
   "source": [
    "%time delayed_d_i_2.compute()"
   ]
  },
  {
   "cell_type": "markdown",
   "metadata": {},
   "source": [
    "### Notice!\n",
    "\n",
    "The computation of `delayed_d_i_2` took 2 seconds, which is the time required to compute `slow_inc(2)` plus the time required to compute `slow_dec(3)`!\n",
    "\n",
    "But we already computed `delayed_i_2`, so why are we computing it, again?"
   ]
  },
  {
   "cell_type": "markdown",
   "metadata": {},
   "source": [
    "### NOTE:\n",
    "\n",
    "In addition to using the `compute` method of a Delayed object, you can also compute a `Delayed` object with the `compute` function in Dask."
   ]
  },
  {
   "cell_type": "code",
   "execution_count": null,
   "metadata": {},
   "outputs": [],
   "source": [
    "%time _i_2, _d_i_2 = dask.compute(delayed_i_2, delayed_d_i_2)\n",
    "_i_2, _d_i_2"
   ]
  },
  {
   "cell_type": "markdown",
   "metadata": {},
   "source": [
    "### Notice!\n",
    "\n",
    "Did you notice that this computed both `Delayed` objects at the same time (in parallel)?"
   ]
  },
  {
   "cell_type": "markdown",
   "metadata": {},
   "source": [
    "## Delayed.persist()\n",
    "\n",
    "To keep the computed result of a `Delayed` object in memory, so that it is available later, we use the `persist` method of the `Delayed` objects."
   ]
  },
  {
   "cell_type": "code",
   "execution_count": null,
   "metadata": {},
   "outputs": [],
   "source": [
    "%time persist_i_2 = delayed_inc(2).persist()\n",
    "persist_i_2"
   ]
  },
  {
   "cell_type": "code",
   "execution_count": null,
   "metadata": {},
   "outputs": [],
   "source": [
    "%time persist_i_2.compute()"
   ]
  },
  {
   "cell_type": "code",
   "execution_count": null,
   "metadata": {},
   "outputs": [],
   "source": [
    "%time persist_d_i_2 = delayed_dec(persist_i_2)\n",
    "persist_d_i_2"
   ]
  },
  {
   "cell_type": "code",
   "execution_count": null,
   "metadata": {},
   "outputs": [],
   "source": [
    "%time persist_d_i_2.compute()"
   ]
  },
  {
   "cell_type": "markdown",
   "metadata": {},
   "source": [
    "### Notice!\n",
    "\n",
    "Now, the computation of `i2` only took as long as it took to compute `dec(3)` because the result of `i1` was persisted in memory."
   ]
  },
  {
   "cell_type": "markdown",
   "metadata": {},
   "source": [
    "### NOTE:\n",
    "\n",
    "Like the `dask.compute` function, you can also persist `Delayed` objects with the `dask.persist` function:"
   ]
  },
  {
   "cell_type": "code",
   "execution_count": null,
   "metadata": {},
   "outputs": [],
   "source": [
    "%time _i_2, _d_i_2 = dask.persist(delayed_i_2, delayed_d_i_2)\n",
    "_i_2, _d_i_2"
   ]
  },
  {
   "cell_type": "markdown",
   "metadata": {},
   "source": [
    "## Delayed.key\n",
    "\n",
    "Each `Delayed` object has a unique identifier, called a `key`, which can be returned with the `key` attribute."
   ]
  },
  {
   "cell_type": "code",
   "execution_count": null,
   "metadata": {},
   "outputs": [],
   "source": [
    "delayed_i_2.key"
   ]
  },
  {
   "cell_type": "code",
   "execution_count": null,
   "metadata": {},
   "outputs": [],
   "source": [
    "persist_i_2.key"
   ]
  },
  {
   "cell_type": "code",
   "execution_count": null,
   "metadata": {},
   "outputs": [],
   "source": [
    "delayed_d_i_2.key"
   ]
  },
  {
   "cell_type": "code",
   "execution_count": null,
   "metadata": {},
   "outputs": [],
   "source": [
    "persist_d_i_2.key"
   ]
  },
  {
   "cell_type": "markdown",
   "metadata": {},
   "source": [
    "## Delayed.dask\n",
    "\n",
    "These `key`s are used to uniquely identify each task in a *Task Graph*, and the *Task Graph* can be viewed as dictionary-like object associated with the `dask` attribute of the `Delayed` object."
   ]
  },
  {
   "cell_type": "code",
   "execution_count": null,
   "metadata": {},
   "outputs": [],
   "source": [
    "# Short function to print out a Task Graph\n",
    "def print_dask(dobj):\n",
    "    for key in dobj.dask:\n",
    "        print('{}:'.format(key))\n",
    "        if isinstance(dobj.dask[key], tuple):\n",
    "            print('    function:  {}'.format(dobj.dask[key][0]))\n",
    "            print('    arguments: {}'.format(dobj.dask[key][1:]))\n",
    "        else:\n",
    "            print('    value: {}'.format(dobj.dask[key]))"
   ]
  },
  {
   "cell_type": "code",
   "execution_count": null,
   "metadata": {},
   "outputs": [],
   "source": [
    "print_dask(delayed_i_2)"
   ]
  },
  {
   "cell_type": "code",
   "execution_count": null,
   "metadata": {},
   "outputs": [],
   "source": [
    "print_dask(delayed_d_i_2)"
   ]
  },
  {
   "cell_type": "markdown",
   "metadata": {},
   "source": [
    "## Delayed.visualize()\n",
    "\n",
    "It's kinda annoying that we have to write a special function to see what the graph looks like!\n",
    "\n",
    "Fortunately, there's a better way!  Use the `visualize` method of the `Delayed` object."
   ]
  },
  {
   "cell_type": "code",
   "execution_count": null,
   "metadata": {},
   "outputs": [],
   "source": [
    "delayed_i_2.visualize()"
   ]
  },
  {
   "cell_type": "code",
   "execution_count": null,
   "metadata": {},
   "outputs": [],
   "source": [
    "delayed_d_i_2.visualize()"
   ]
  },
  {
   "cell_type": "markdown",
   "metadata": {},
   "source": [
    "### Notice!\n",
    "\n",
    "If we visualize the persisted versions of these `Delayed` objects, what do you get?"
   ]
  },
  {
   "cell_type": "code",
   "execution_count": null,
   "metadata": {},
   "outputs": [],
   "source": [
    "persist_i_2.visualize()"
   ]
  },
  {
   "cell_type": "code",
   "execution_count": null,
   "metadata": {},
   "outputs": [],
   "source": [
    "persist_d_i_2.visualize()"
   ]
  },
  {
   "cell_type": "markdown",
   "metadata": {},
   "source": [
    "The first objects in the Task Graphs are *data*, now!  Before, they were function calls!"
   ]
  }
 ],
 "metadata": {
  "kernelspec": {
   "display_name": "Python [default]",
   "language": "python",
   "name": "python3"
  },
  "language_info": {
   "codemirror_mode": {
    "name": "ipython",
    "version": 3
   },
   "file_extension": ".py",
   "mimetype": "text/x-python",
   "name": "python",
   "nbconvert_exporter": "python",
   "pygments_lexer": "ipython3",
   "version": "3.6.5"
  }
 },
 "nbformat": 4,
 "nbformat_minor": 2
}
